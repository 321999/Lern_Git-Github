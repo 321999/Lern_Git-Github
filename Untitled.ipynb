{
 "cells": [
  {
   "cell_type": "code",
   "execution_count": 10,
   "metadata": {},
   "outputs": [
    {
     "data": {
      "text/plain": [
       "4"
      ]
     },
     "execution_count": 10,
     "metadata": {},
     "output_type": "execute_result"
    }
   ],
   "source": [
    "#usign linear regressing \n",
    "class Var:    #here class is used as this variable value will chages for each object \n",
    "    def __init__(self) -> None:\n",
    "        self.max=0\n",
    "        self.min=0\n",
    "def MinMax(a):\n",
    "    if len(a)==1:\n",
    "        print(f\"maximum element is:{a[0]} and the minimum element is:{a[0]}\")\n",
    "    v=Var()\n",
    "    if a[0]>a[1]:\n",
    "        v.max=a[0]\n",
    "        v.min=a[1]\n",
    "\n",
    "    elif a[0]<a[1]:\n",
    "        v.min=a[0]\n",
    "        v.max=a[1]\n",
    "#for the element staritng or more than two element \n",
    "    for i in range(2,len(a)):\n",
    "        if a[i]>v.max:\n",
    "            v.max=a[i]\n",
    "        elif a[i]<v.min:\n",
    "            v.min=a[i]\n",
    "    return v\n",
    "m=MinMax([1,2,3,4])\n",
    "print(f\"maximum elemen is :{m.max}\\nminimum element is:{m.min}\")\n",
    "m.max\n",
    "#     print(m.ma)\n",
    "# if \"__name__\"==\"__main__\":\n",
    "#     # a=list(input(\"enter the lsit\"))\n",
    "#     m=MinMax([1,2,3,4]);\n",
    "#     print(m.ma)\n",
    "\n",
    "# # print(\"hello\")"
   ]
  },
  {
   "attachments": {},
   "cell_type": "markdown",
   "metadata": {},
   "source": [
    "ls ->is to check how many files are there in the folder\n",
    "i got the msg use git add to track the file use add <file name> to tack the file \n",
    "\n",
    "first we have writtain the names of the file which is to be tracked\n",
    "\n",
    "if u want to untrack the file which had tracked then use git rm --cached <file name>\n",
    "\n",
    "after tracking and performing som operation on it we can commit means on first stage we had committed \n",
    "git commit -m \"msg u want pass\"\n",
    "\n",
    "now we will use git log to track the file that who had made the changes and made commmited\n",
    "\n"
   ]
  },
  {
   "cell_type": "markdown",
   "metadata": {},
   "source": []
  }
 ],
 "metadata": {
  "kernelspec": {
   "display_name": "Python 3",
   "language": "python",
   "name": "python3"
  },
  "language_info": {
   "codemirror_mode": {
    "name": "ipython",
    "version": 3
   },
   "file_extension": ".py",
   "mimetype": "text/x-python",
   "name": "python",
   "nbconvert_exporter": "python",
   "pygments_lexer": "ipython3",
   "version": "3.9.5"
  },
  "orig_nbformat": 4,
  "vscode": {
   "interpreter": {
    "hash": "6c6cd6a7d23a101f52045e6e4a199b1e37f6b549cad7de3490c261841d526b8a"
   }
  }
 },
 "nbformat": 4,
 "nbformat_minor": 2
}
